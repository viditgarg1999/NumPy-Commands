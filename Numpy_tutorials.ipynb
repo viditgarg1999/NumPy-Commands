{
 "cells": [
  {
   "cell_type": "markdown",
   "metadata": {},
   "source": [
    "## What is Numpy? <br/>\n",
    "NumPy is a library for the Python programming language, adding support for large, multi-dimensional arrays and matrices, along with a large collection of high-level mathematical functions to operate on these arrays.<br/>\n",
    "## Why Numpy over Lists?\n",
    "<ul>\n",
    "<li>Requires Less Memory</li>\n",
    "<li>Fast</li>\n",
    "<li>Convinient</li>    \n",
    "</ul>\n",
    "<br/>\n",
    "<b>Let's check all one by one</b>"
   ]
  },
  {
   "cell_type": "code",
   "execution_count": 4,
   "metadata": {},
   "outputs": [
    {
     "name": "stdout",
     "output_type": "stream",
     "text": [
      "List requires 14000 bytes of memory\n",
      "Array requires 4000 bytes of memory\n"
     ]
    }
   ],
   "source": [
    "# Requires Less MEMORY SPACE\n",
    "\n",
    "import numpy as np\n",
    "import sys\n",
    "\n",
    "l=range(1000) # Creating list with lenth=1000\n",
    "print(\"List requires \" + str(sys.getsizeof(5)*len(l)) + \" bytes of memory\") #It will print the total memory in bytes required by the list, as sys.getsizeof(int) will give the memory acquired by one integer in the system, and then it is multiplied by 1000 to predict the memory alloted for the list\n",
    "\n",
    "array=np.arange(1000)\n",
    "print(\"Array requires \" + str(array.size*array.itemsize) + \" bytes of memory\")"
   ]
  },
  {
   "cell_type": "markdown",
   "metadata": {},
   "source": [
    "As clearly visible from the above code numpy array requires less memory as compare to python list, the reason for this is in Numpy array 1 int elements requires 4 bytes of memory space while in case of python lists 1 element requires 14 bytes of memory space(because the lists here contains the list of pointers first and then each pointer points to another location in the memory thus requires large memory)"
   ]
  },
  {
   "cell_type": "code",
   "execution_count": 7,
   "metadata": {},
   "outputs": [
    {
     "name": "stdout",
     "output_type": "stream",
     "text": [
      "Total time taken by python list: 37.89663314819336\n",
      "Total time taken by numpy array: 1.0063648223876953\n"
     ]
    }
   ],
   "source": [
    "# Requires Less TIME\n",
    "\n",
    "import time\n",
    "\n",
    "# I have created two lists for size 100000\n",
    "l1= range(100000)\n",
    "l2= range(100000)\n",
    "\n",
    "arr1=np.arange(100000)\n",
    "arr2=np.arange(100000)\n",
    "\n",
    "start = time.time()\n",
    "result = [x+y for x,y in zip(l1,l2)]\n",
    "    \n",
    "print(\"Total time taken by python list: \" + str((time.time() - start)*1000)) # Difference between the start \n",
    "\n",
    "start = time.time()\n",
    "result = arr1+arr2\n",
    "print(\"Total time taken by numpy array: \" + str((time.time() - start)*1000))\n"
   ]
  },
  {
   "cell_type": "markdown",
   "metadata": {},
   "source": [
    "As clearly visible fromt the above results that the time taken by the Numpy array is very less as compare to the time taken by the the Python list for performing the same task.<br/><br/>\n",
    "<b>Convinient</b><br/>\n",
    "As shown above it is very easy to perform operation on the numpy array as compare to python list,\n",
    "like refer the example as shown below\n"
   ]
  },
  {
   "cell_type": "code",
   "execution_count": 12,
   "metadata": {},
   "outputs": [
    {
     "name": "stdout",
     "output_type": "stream",
     "text": [
      "Array result: [3 3 3]\n",
      "Python list result: [3, 3, 3]\n"
     ]
    }
   ],
   "source": [
    "ar1=np.array([1,2,3])\n",
    "ar2=np.array([4,5,6])\n",
    "\n",
    "# Difference between the above two arrays can be calculated simply by subtracting the two arrays\n",
    "\n",
    "result = ar2 - ar1\n",
    "print(\"Array result: \"+ str(result))\n",
    "\n",
    "# but in case of Pyhton list it is quite difficult like\n",
    "\n",
    "l1=[1,2,3]\n",
    "l2=[4,5,6]\n",
    "result = [y-x for x,y in zip(l1,l2)]\n",
    "print(\"Python list result: \"+ str(result))    \n"
   ]
  },
  {
   "cell_type": "markdown",
   "metadata": {},
   "source": [
    "<B>Single-Dimentional Array creation using Numpy</B>"
   ]
  },
  {
   "cell_type": "code",
   "execution_count": 26,
   "metadata": {},
   "outputs": [
    {
     "name": "stdout",
     "output_type": "stream",
     "text": [
      "Value at first index: 2\n",
      "Dimensions of an array: 1\n",
      "Memory space requires by an integer: 4\n",
      "Datatype of the elements is: int32\n"
     ]
    }
   ],
   "source": [
    "arr= np.array([1,2,3,4,5])\n",
    "\n",
    "#Extracting particular value\n",
    "print(\"Value at first index: \" + str(arr[1])) # Because the array starts from 0 index \n",
    "\n",
    "#Prints the Dimensions of an array\n",
    "print(\"Dimensions of an array: \" + str(arr.ndim)) \n",
    "\n",
    "#Print itemsize(Memory space required by an item)\n",
    "print(\"Memory space requires by an integer: \" + str(arr.itemsize))\n",
    "\n",
    "#Print the datatype of the elements in an array\n",
    "print(\"Datatype of the elements is: \" + str(arr.dtype))"
   ]
  },
  {
   "cell_type": "markdown",
   "metadata": {},
   "source": [
    "<b>Multi-dimensional Array using Numpy</b>"
   ]
  },
  {
   "cell_type": "code",
   "execution_count": 34,
   "metadata": {},
   "outputs": [
    {
     "name": "stdout",
     "output_type": "stream",
     "text": [
      "Array with datatype as integer[[1 2]\n",
      " [3 4]\n",
      " [4 5]\n",
      " [6 7]]\n",
      "Array with datatype as float[[1. 2.]\n",
      " [3. 4.]\n",
      " [5. 6.]]\n",
      "Size is: 8\n",
      "Dimensions are(4, 2)\n"
     ]
    }
   ],
   "source": [
    "arr = np.array([[1,2],[3,4],[4,5],[6,7]])\n",
    "print(\"Array with datatype as integer\"+ str(arr))\n",
    "# Creating an array with float datatype\n",
    "arr1=np.array([[1,2], [3,4], [5,6]], dtype=np.float64 )\n",
    "print(\"Array with datatype as float\"+ str(arr1))\n",
    "\n",
    "#Print the size(number of elements) of the array\n",
    "print(\"Size is: \"+ str(arr.size))\n",
    "\n",
    "#Print the shape(dimensions) on the array\n",
    "print(\"Dimensions ar: e\" + str(arr.shape))"
   ]
  },
  {
   "cell_type": "markdown",
   "metadata": {},
   "source": [
    "<B>Initializing values in array</B> "
   ]
  },
  {
   "cell_type": "code",
   "execution_count": 37,
   "metadata": {},
   "outputs": [
    {
     "name": "stdout",
     "output_type": "stream",
     "text": [
      "Array with all values as zeros[[0. 0. 0. 0.]\n",
      " [0. 0. 0. 0.]\n",
      " [0. 0. 0. 0.]]\n",
      "Array with all values as ones[[1. 1. 1. 1.]\n",
      " [1. 1. 1. 1.]\n",
      " [1. 1. 1. 1.]]\n"
     ]
    }
   ],
   "source": [
    "array = np.zeros((3,4))\n",
    "print(\"Array with all values as zeros\" + str(array))\n",
    "\n",
    "array1 = np.ones((3,4))\n",
    "print(\"Array with all values as ones\" + str(array1))"
   ]
  },
  {
   "cell_type": "markdown",
   "metadata": {},
   "source": [
    "<b>Arange function in Numpy</b>"
   ]
  },
  {
   "cell_type": "code",
   "execution_count": 38,
   "metadata": {},
   "outputs": [
    {
     "name": "stdout",
     "output_type": "stream",
     "text": [
      "Print an array with elements 1,2,3,4[1 2 3 4]\n",
      "Print an array with elements 1,3 here it will take a step of 2 in range 1 to 5(don't include 5)[1 3]\n"
     ]
    }
   ],
   "source": [
    "array2 = np.arange(1,5)\n",
    "print(\"Print an array with elements 1,2,3,4\" + str(array2))\n",
    "\n",
    "array3 = np.arange(1,5,2)\n",
    "print(\"Print an array with elements 1,3 here it will take a step of 2 in range 1 to 5(don't include 5): \" + str(array3))"
   ]
  },
  {
   "cell_type": "markdown",
   "metadata": {},
   "source": [
    "<b>How to change the dimensions of an numpy array</b>"
   ]
  },
  {
   "cell_type": "code",
   "execution_count": 43,
   "metadata": {},
   "outputs": [
    {
     "name": "stdout",
     "output_type": "stream",
     "text": [
      "Array with shape(3,4): [[0. 0. 0. 0.]\n",
      " [0. 0. 0. 0.]\n",
      " [0. 0. 0. 0.]]\n",
      "Same array with new dimensions as(4,3):[[0. 0. 0.]\n",
      " [0. 0. 0.]\n",
      " [0. 0. 0.]\n",
      " [0. 0. 0.]]\n"
     ]
    }
   ],
   "source": [
    "print(\"Array with shape(3,4): \" + str(array))\n",
    "\n",
    "array4=array.reshape(4,3)\n",
    "print(\"Same array with new dimensions as(4,3):\" + str(array4))"
   ]
  },
  {
   "cell_type": "markdown",
   "metadata": {},
   "source": [
    "<b>Other Basics Mathematical operations on Array: </b>"
   ]
  },
  {
   "cell_type": "code",
   "execution_count": 56,
   "metadata": {},
   "outputs": [
    {
     "name": "stdout",
     "output_type": "stream",
     "text": [
      "Maximum element is: 9\n",
      "Minimum element is: 1\n",
      "Sum of all elements is: 45\n",
      "Square root of all elements is: [[1.         1.41421356 1.73205081]\n",
      " [2.         2.23606798 2.44948974]\n",
      " [2.64575131 2.82842712 3.        ]]\n",
      "Sum of two arrays is: [[12 23 16]\n",
      " [ 8 20 14]\n",
      " [ 9  9 26]]\n",
      "Difference of two arrays is: [[-10 -19 -10]\n",
      " [  0 -10  -2]\n",
      " [  5   7  -8]]\n",
      "Product of two arrays is: [[ 11  42  39]\n",
      " [ 16  75  48]\n",
      " [ 14   8 153]]\n",
      "Matrix multiplication of two arrays is: [[ 25  54  80]\n",
      " [ 76 165 194]\n",
      " [127 276 308]]\n"
     ]
    }
   ],
   "source": [
    "array5=np.array([[1,2,3],[4,5,6],[7,8,9]])\n",
    "\n",
    "#Print the maximum element of the array\n",
    "print(\"Maximum element is: \" + str(array5.max()))\n",
    "\n",
    "#Print the minimum element of the array\n",
    "print(\"Minimum element is: \" + str(array5.min()))\n",
    "\n",
    "#Print the sum of all the elements of the array\n",
    "print(\"Sum of all elements is: \" + str(array5.sum()))\n",
    "\n",
    "#Print the square root of all the elements of the array\n",
    "print(\"Square root of all elements is: \" + str(np.sqrt(array5)))\n",
    "\n",
    "array6=np.array([[11,21,13],[4,15,8],[2,1,17]])\n",
    "\n",
    "#Print the sum of two arrays\n",
    "print(\"Sum of two arrays is: \" + str(array5 + array6))\n",
    "\n",
    "#Print the difference of two arrays\n",
    "print(\"Difference of two arrays is: \" + str(array5 - array6))\n",
    "\n",
    "#Print the product of two arrays\n",
    "print(\"Product of two arrays is: \" + str(array5 * array6))\n",
    "\n",
    "#Print the product of two arrays(Matrix multiplication)\n",
    "print(\"Matrix multiplication of two arrays is: \" + str(array5.dot(array6)))"
   ]
  },
  {
   "cell_type": "markdown",
   "metadata": {},
   "source": [
    "<b>Indexing and Slicing</b>"
   ]
  },
  {
   "cell_type": "code",
   "execution_count": 62,
   "metadata": {},
   "outputs": [
    {
     "name": "stdout",
     "output_type": "stream",
     "text": [
      "Frist two elements are: [1 2]\n",
      "Last two elements are: [4 5]\n",
      "Element at second row and first column is: 4\n",
      "Elements of first two rows and second column are: [2 5]\n"
     ]
    }
   ],
   "source": [
    "array7 = np.array([1,2,4,5])\n",
    "\n",
    "#print first two elements of the array\n",
    "print(\"Frist two elements are: \"+ str(array7[0:2]))\n",
    "\n",
    "#print last two elements of the array\n",
    "print(\"Last two elements are: \"+ str(array7[2:4]))\n",
    "\n",
    "#To get a particular element of an Multi Dimensional Array\n",
    "array8 = np.array([[1,2,3], [4,5,6], [7,8,9]])\n",
    "\n",
    "#To get element at 2nd row and 1st column, here as the index in array starts from 0 hence our desired element will be available at the index (1,0)\n",
    "print(\"Element at second row and first column is: \" + str(array8[1,0]))\n",
    "\n",
    "# To get elements of first two rows and second column\n",
    "print(\"Elements of first two rows and second column are: \" + str(array8[0:2,1]) )"
   ]
  },
  {
   "cell_type": "markdown",
   "metadata": {},
   "source": [
    "<b>Stacking of one array over ather</b>"
   ]
  },
  {
   "cell_type": "code",
   "execution_count": 70,
   "metadata": {},
   "outputs": [
    {
     "name": "stdout",
     "output_type": "stream",
     "text": [
      "[[ 1  2  3]\n",
      " [ 4  5  6]\n",
      " [ 7  8  9]\n",
      " [11 21 13]\n",
      " [ 4 15  8]\n",
      " [ 2  1 17]]\n",
      "[[ 1  2  3 11 21 13]\n",
      " [ 4  5  6  4 15  8]\n",
      " [ 7  8  9  2  1 17]]\n"
     ]
    }
   ],
   "source": [
    "print(np.vstack((array5, array6))) # It will vertically stack array5 over array6\n",
    "\n",
    "print(np.hstack((array5, array6))) # It will horizontally stack array5 over array6\n",
    "\n"
   ]
  },
  {
   "cell_type": "markdown",
   "metadata": {},
   "source": [
    "<b>Splitting of the array</b>"
   ]
  },
  {
   "cell_type": "code",
   "execution_count": 76,
   "metadata": {},
   "outputs": [
    {
     "name": "stdout",
     "output_type": "stream",
     "text": [
      "Newly created array is: [[ 0  1  2  3  4  5]\n",
      " [ 6  7  8  9 10 11]\n",
      " [12 13 14 15 16 17]]\n",
      "[[ 0  1]\n",
      " [ 6  7]\n",
      " [12 13]]\n",
      "[[ 2  3]\n",
      " [ 8  9]\n",
      " [14 15]]\n",
      "[[ 4  5]\n",
      " [10 11]\n",
      " [16 17]]\n"
     ]
    }
   ],
   "source": [
    "#To split the array in 3 equal parts\n",
    "array9 = np.arange(18).reshape(3,6) # Make an array with a total of 18 elements and having dimensions 3 * 6\n",
    "print(\"Newly created array is: \" + str(array9))\n",
    "\n",
    "result = np.hsplit(array9,3) #Split the array in 3 equal parts\n",
    "print(result[0])\n",
    "print(result[1])\n",
    "print(result[2])\n",
    "\n",
    "#Similarly we can perform vrtical split"
   ]
  },
  {
   "cell_type": "markdown",
   "metadata": {},
   "source": [
    "<b> Getting boolean values</b>"
   ]
  },
  {
   "cell_type": "code",
   "execution_count": 80,
   "metadata": {},
   "outputs": [
    {
     "name": "stdout",
     "output_type": "stream",
     "text": [
      "[[False False False False False False]\n",
      " [ True  True  True  True  True  True]\n",
      " [ True  True  True  True  True  True]]\n",
      "[ 6  7  8  9 10 11 12 13 14 15 16 17]\n"
     ]
    }
   ],
   "source": [
    "b = array9 > 5\n",
    "print(b) # Print True if element is greater than 5 and false if element is less than 5 \n",
    "\n",
    "array10 = array9[b] # Give all the value for which b is True\n",
    "print(array10)\n"
   ]
  },
  {
   "cell_type": "markdown",
   "metadata": {},
   "source": [
    "<b>Iterating through each element in numpy array</b>"
   ]
  },
  {
   "cell_type": "code",
   "execution_count": 87,
   "metadata": {},
   "outputs": [
    {
     "name": "stdout",
     "output_type": "stream",
     "text": [
      "Array is: [[ 9 10 11]\n",
      " [12 13 14]\n",
      " [15 16 17]]\n",
      "9\n",
      "10\n",
      "11\n",
      "12\n",
      "13\n",
      "14\n",
      "15\n",
      "16\n",
      "17\n",
      "Performing it using array.flatten\n",
      "9\n",
      "10\n",
      "11\n",
      "12\n",
      "13\n",
      "14\n",
      "15\n",
      "16\n",
      "17\n"
     ]
    }
   ],
   "source": [
    "array11 = np.arange(9,18).reshape(3,3)\n",
    "print(\"Array is: \" + str(array11))\n",
    "\n",
    "for i in range(3):\n",
    "    for j in range(3):\n",
    "        print(array11[i][j])\n",
    "# Performing the same above task using array.flatten function       \n",
    "print(\"Performing it using array.flatten\")\n",
    "for i in array11.flatten():\n",
    "    print(i)"
   ]
  },
  {
   "cell_type": "markdown",
   "metadata": {},
   "source": [
    "<b>If you want to know more about it go and visit Numpy official documentation</b><br/><br/>\n",
    "Signing off for this tutorial<br/>\n",
    "Happy coding\n"
   ]
  },
  {
   "cell_type": "code",
   "execution_count": null,
   "metadata": {},
   "outputs": [],
   "source": []
  }
 ],
 "metadata": {
  "kernelspec": {
   "display_name": "Python 3",
   "language": "python",
   "name": "python3"
  },
  "language_info": {
   "codemirror_mode": {
    "name": "ipython",
    "version": 3
   },
   "file_extension": ".py",
   "mimetype": "text/x-python",
   "name": "python",
   "nbconvert_exporter": "python",
   "pygments_lexer": "ipython3",
   "version": "3.7.2"
  }
 },
 "nbformat": 4,
 "nbformat_minor": 2
}
